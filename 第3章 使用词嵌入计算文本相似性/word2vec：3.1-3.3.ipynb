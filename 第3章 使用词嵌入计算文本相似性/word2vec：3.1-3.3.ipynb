{
 "cells": [
  {
   "cell_type": "markdown",
   "metadata": {},
   "source": [
    "## Text Similarity using Word Embeddings\n",
    "\n",
    "In this notebook we're going to play around with pre build word embeddings and do some fun calculations:"
   ]
  },
  {
   "cell_type": "code",
   "execution_count": 4,
   "metadata": {
    "ExecuteTime": {
     "end_time": "2021-05-19T16:34:23.839827Z",
     "start_time": "2021-05-19T16:34:23.834723Z"
    }
   },
   "outputs": [],
   "source": [
    "%matplotlib inline\n",
    "\n",
    "import os\n",
    "from keras.utils import get_file\n",
    "import gensim\n",
    "import subprocess\n",
    "import numpy as np\n",
    "import matplotlib.pyplot as plt\n",
    "from IPython.core.pylabtools import figsize\n",
    "figsize(10, 10)\n",
    "\n",
    "from sklearn.manifold import TSNE\n",
    "import json\n",
    "from collections import Counter\n",
    "from itertools import chain"
   ]
  },
  {
   "cell_type": "markdown",
   "metadata": {},
   "source": [
    "## 3.1　使用预训练的词嵌入发现词的相似性"
   ]
  },
  {
   "cell_type": "markdown",
   "metadata": {},
   "source": [
    "使用Google新闻这个模型。它有300万个词嵌入，并用大约1000亿个摘自Google新闻档案的单词训练过。下载它需要一段时间，所以我们将在本地缓存这个文件："
   ]
  },
  {
   "cell_type": "code",
   "execution_count": 6,
   "metadata": {
    "ExecuteTime": {
     "end_time": "2021-05-19T16:45:23.638990Z",
     "start_time": "2021-05-19T16:40:44.831636Z"
    }
   },
   "outputs": [
    {
     "name": "stdout",
     "output_type": "stream",
     "text": [
      "Downloading data from https://s3.amazonaws.com/dl4j-distribution/GoogleNews-vectors-negative300.bin.gz\n",
      "1647050752/1647046227 [==============================] - 262s 0us/step\n"
     ]
    }
   ],
   "source": [
    "MODEL = 'GoogleNews-vectors-negative300.bin'\n",
    "path = get_file(MODEL + '.gz', 'https://s3.amazonaws.com/dl4j-distribution/%s.gz' % MODEL)\n",
    "if not os.path.isdir('generated'):\n",
    "    os.mkdir('generated')\n",
    "\n",
    "unzipped = os.path.join('generated', MODEL)\n",
    "if not os.path.isfile(unzipped):\n",
    "    with open(unzipped, 'wb') as fout:\n",
    "        zcat = subprocess.Popen(['zcat'],\n",
    "                          stdin=open(path),\n",
    "                          stdout=fout\n",
    "                         )\n",
    "        zcat.wait()"
   ]
  },
  {
   "cell_type": "code",
   "execution_count": 8,
   "metadata": {
    "ExecuteTime": {
     "end_time": "2021-05-19T16:48:22.196357Z",
     "start_time": "2021-05-19T16:47:47.545437Z"
    }
   },
   "outputs": [],
   "source": [
    "model = gensim.models.KeyedVectors.load_word2vec_format(unzipped, binary=True)"
   ]
  },
  {
   "cell_type": "code",
   "execution_count": 11,
   "metadata": {
    "ExecuteTime": {
     "end_time": "2021-05-21T13:29:10.095898Z",
     "start_time": "2021-05-21T13:29:09.907234Z"
    }
   },
   "outputs": [
    {
     "data": {
      "text/plain": [
       "[('great', 0.7291510105133057),\n",
       " ('bad', 0.7190051078796387),\n",
       " ('terrific', 0.6889115571975708),\n",
       " ('decent', 0.6837348341941833),\n",
       " ('nice', 0.6836092472076416),\n",
       " ('excellent', 0.644292950630188),\n",
       " ('fantastic', 0.6407778263092041),\n",
       " ('better', 0.6120728850364685),\n",
       " ('solid', 0.5806034803390503),\n",
       " ('lousy', 0.576420247554779)]"
      ]
     },
     "execution_count": 11,
     "metadata": {},
     "output_type": "execute_result"
    }
   ],
   "source": [
    "model.most_similar(positive=['good'])"
   ]
  },
  {
   "cell_type": "markdown",
   "metadata": {},
   "source": [
    "## 3.2　Word2vec数学特性"
   ]
  },
  {
   "cell_type": "markdown",
   "metadata": {},
   "source": [
    "现在我们可以将此应用到任意的词语之中，例如，为了找到与“king”和“son”之间关系相似的与“daughter”对应的单词："
   ]
  },
  {
   "cell_type": "code",
   "execution_count": 17,
   "metadata": {
    "ExecuteTime": {
     "end_time": "2021-05-21T13:44:04.502212Z",
     "start_time": "2021-05-21T13:44:04.498590Z"
    }
   },
   "outputs": [],
   "source": [
    "def A_is_to_B_as_C_is_to(a, b, c, topn=1):\n",
    "    a, b, c = map(lambda x:x if type(x) == list else [x], (a, b, c))\n",
    "    res = model.most_similar(positive=b + c, negative=a, topn=topn)\n",
    "    if len(res):\n",
    "        if topn == 1:\n",
    "            return res[0][0]\n",
    "        return [x[0] for x in res]\n",
    "    return None"
   ]
  },
  {
   "cell_type": "markdown",
   "metadata": {},
   "source": [
    "我们也可以使用这个方法查找一些选定国家的首都："
   ]
  },
  {
   "cell_type": "code",
   "execution_count": 18,
   "metadata": {
    "ExecuteTime": {
     "end_time": "2021-05-21T13:44:27.780836Z",
     "start_time": "2021-05-21T13:44:27.141523Z"
    }
   },
   "outputs": [
    {
     "name": "stdout",
     "output_type": "stream",
     "text": [
      "Rome is the capital of Italy\n",
      "Paris is the capital of France\n",
      "Delhi is the capital of India\n",
      "Beijing is the capital of China\n"
     ]
    }
   ],
   "source": [
    "for country in 'Italy', 'France', 'India', 'China':\n",
    "    print('%s is the capital of %s' % \n",
    "          (A_is_to_B_as_C_is_to('Germany', 'Berlin', country), country))"
   ]
  },
  {
   "cell_type": "markdown",
   "metadata": {},
   "source": [
    "或者是查找公司的主要产品（注意#占位符代表词嵌入中的任意数值）："
   ]
  },
  {
   "cell_type": "code",
   "execution_count": 19,
   "metadata": {
    "ExecuteTime": {
     "end_time": "2021-05-21T13:50:42.155715Z",
     "start_time": "2021-05-21T13:50:41.399861Z"
    }
   },
   "outputs": [
    {
     "name": "stdout",
     "output_type": "stream",
     "text": [
      "Google -> personalized_homepage, app, Gmail\n",
      "IBM -> DB2, WebSphere_Portal, Tamino_XML_Server\n",
      "Boeing -> Dreamliner, airframe, aircraft\n",
      "Microsoft -> Windows_Mobile, SyncMate, Windows\n",
      "Samsung -> MM_A###, handset, Samsung_SCH_B###\n"
     ]
    }
   ],
   "source": [
    "for company in 'Google', 'IBM', 'Boeing', 'Microsoft', 'Samsung':\n",
    "    products = A_is_to_B_as_C_is_to(['Starbucks', 'Apple'], ['Starbucks_coffee', 'iPhone'], company, topn=3)\n",
    "    print('%s -> %s' %(company, ', '.join(products)))"
   ]
  },
  {
   "cell_type": "markdown",
   "metadata": {},
   "source": [
    "## 3.3　可视化词嵌入"
   ]
  },
  {
   "cell_type": "markdown",
   "metadata": {},
   "source": [
    "浏览一个300维的空间非常困难，但是幸运的是我们可以使用称为t分布随机邻域嵌入（t-SNE）的算法把更高维度的空间折叠成更易理解的低维度空间，比如两个维度。\n",
    "假设我们想看看三组词是如何划分的。我们将选择国家、体育和饮料："
   ]
  },
  {
   "cell_type": "code",
   "execution_count": 28,
   "metadata": {
    "ExecuteTime": {
     "end_time": "2021-05-21T13:57:18.815712Z",
     "start_time": "2021-05-21T13:57:18.811698Z"
    }
   },
   "outputs": [
    {
     "data": {
      "text/plain": [
       "18"
      ]
     },
     "execution_count": 28,
     "metadata": {},
     "output_type": "execute_result"
    }
   ],
   "source": [
    "beverages = ['espresso', 'beer', 'vodka', 'wine', 'cola', 'tea']\n",
    "countries = ['Italy', 'Germany', 'Russia', 'France', 'USA', 'India']\n",
    "sports = ['soccer', 'handball', 'hockey', 'cycling', 'basketball', 'cricket']\n",
    "\n",
    "items = beverages + countries + sports\n",
    "len(items)"
   ]
  },
  {
   "cell_type": "code",
   "execution_count": 29,
   "metadata": {
    "ExecuteTime": {
     "end_time": "2021-05-21T13:57:20.825405Z",
     "start_time": "2021-05-21T13:57:20.822140Z"
    }
   },
   "outputs": [
    {
     "data": {
      "text/plain": [
       "18"
      ]
     },
     "execution_count": 29,
     "metadata": {},
     "output_type": "execute_result"
    }
   ],
   "source": [
    "item_vectors = [(item, model[item]) \n",
    "                    for item in items\n",
    "                    if item in model]\n",
    "len(item_vectors)"
   ]
  },
  {
   "cell_type": "markdown",
   "metadata": {
    "ExecuteTime": {
     "end_time": "2021-05-21T13:56:35.670610Z",
     "start_time": "2021-05-21T13:56:35.616397Z"
    }
   },
   "source": [
    "我们现在能够在300维空间中使用t-SNE算法寻找类簇："
   ]
  },
  {
   "cell_type": "code",
   "execution_count": 38,
   "metadata": {
    "ExecuteTime": {
     "end_time": "2021-05-21T13:59:50.528461Z",
     "start_time": "2021-05-21T13:59:50.314980Z"
    }
   },
   "outputs": [
    {
     "name": "stdout",
     "output_type": "stream",
     "text": [
      "[t-SNE] Computing 17 nearest neighbors...\n",
      "[t-SNE] Indexed 18 samples in 0.000s...\n",
      "[t-SNE] Computed neighbors for 18 samples in 0.001s...\n",
      "[t-SNE] Computed conditional probabilities for sample 18 / 18\n",
      "[t-SNE] Mean sigma: 0.581543\n",
      "[t-SNE] Computed conditional probabilities in 0.001s\n",
      "[t-SNE] Iteration 50: error = 55.3959885, gradient norm = 0.2049821 (50 iterations in 0.026s)\n",
      "[t-SNE] Iteration 100: error = 51.1213531, gradient norm = 0.1761280 (50 iterations in 0.014s)\n",
      "[t-SNE] Iteration 150: error = 72.4438629, gradient norm = 0.7622188 (50 iterations in 0.012s)\n",
      "[t-SNE] Iteration 200: error = 53.8321304, gradient norm = 0.0466580 (50 iterations in 0.011s)\n",
      "[t-SNE] Iteration 250: error = 52.1886864, gradient norm = 0.0386519 (50 iterations in 0.010s)\n",
      "[t-SNE] KL divergence after 250 iterations with early exaggeration: 52.188686\n",
      "[t-SNE] Iteration 300: error = 0.8231727, gradient norm = 0.0013760 (50 iterations in 0.011s)\n",
      "[t-SNE] Iteration 350: error = 0.5230851, gradient norm = 0.0004190 (50 iterations in 0.009s)\n",
      "[t-SNE] Iteration 400: error = 0.4443505, gradient norm = 0.0002950 (50 iterations in 0.008s)\n",
      "[t-SNE] Iteration 450: error = 0.2900459, gradient norm = 0.0004175 (50 iterations in 0.011s)\n",
      "[t-SNE] Iteration 500: error = 0.2116096, gradient norm = 0.0002076 (50 iterations in 0.007s)\n",
      "[t-SNE] Iteration 550: error = 0.1537994, gradient norm = 0.0002563 (50 iterations in 0.008s)\n",
      "[t-SNE] Iteration 600: error = 0.0969730, gradient norm = 0.0000871 (50 iterations in 0.008s)\n",
      "[t-SNE] Iteration 650: error = 0.0916630, gradient norm = 0.0000593 (50 iterations in 0.008s)\n",
      "[t-SNE] Iteration 700: error = 0.0889526, gradient norm = 0.0000394 (50 iterations in 0.008s)\n",
      "[t-SNE] Iteration 750: error = 0.0869029, gradient norm = 0.0000323 (50 iterations in 0.008s)\n",
      "[t-SNE] Iteration 800: error = 0.0850703, gradient norm = 0.0000281 (50 iterations in 0.008s)\n",
      "[t-SNE] Iteration 850: error = 0.0833959, gradient norm = 0.0000267 (50 iterations in 0.008s)\n",
      "[t-SNE] Iteration 900: error = 0.0817011, gradient norm = 0.0000206 (50 iterations in 0.008s)\n",
      "[t-SNE] Iteration 950: error = 0.0814717, gradient norm = 0.0000139 (50 iterations in 0.008s)\n",
      "[t-SNE] Iteration 1000: error = 0.0812180, gradient norm = 0.0000098 (50 iterations in 0.014s)\n",
      "[t-SNE] KL divergence after 1000 iterations: 0.081218\n"
     ]
    }
   ],
   "source": [
    "vectors = np.asarray([x[1] for x in item_vectors])\n",
    "lengths = np.linalg.norm(vectors, axis=1)\n",
    "norm_vectors = (vectors.T / lengths).T\n",
    "\n",
    "tsne = TSNE(n_components=2, perplexity=10, verbose=2).fit_transform(norm_vectors)"
   ]
  },
  {
   "cell_type": "code",
   "execution_count": 40,
   "metadata": {
    "ExecuteTime": {
     "end_time": "2021-05-21T14:00:37.800017Z",
     "start_time": "2021-05-21T14:00:37.566412Z"
    }
   },
   "outputs": [
    {
     "data": {
      "image/png": "[encoded data removed]",
      "text/plain": [
       "<Figure size 720x720 with 1 Axes>"
      ]
     },
     "metadata": {
      "needs_background": "light"
     },
     "output_type": "display_data"
    }
   ],
   "source": [
    "x=tsne[:,0]\n",
    "y=tsne[:,1]\n",
    "\n",
    "fig, ax = plt.subplots()\n",
    "ax.scatter(x, y)\n",
    "\n",
    "for item, x1, y1 in zip(item_vectors, x, y):\n",
    "    ax.annotate(item[0], (x1, y1), size=14)\n",
    "\n",
    "plt.show()"
   ]
  },
  {
   "cell_type": "code",
   "execution_count": 41,
   "metadata": {
    "ExecuteTime": {
     "end_time": "2021-05-21T14:01:00.482940Z",
     "start_time": "2021-05-21T14:01:00.478336Z"
    }
   },
   "outputs": [
    {
     "data": {
      "text/plain": [
       "array([[-414.85898 ,  -60.812557],\n",
       "       [-222.73367 ,  102.36681 ],\n",
       "       [-333.38025 ,   50.311813],\n",
       "       [-287.83197 ,  210.40659 ],\n",
       "       [-243.00174 ,  -51.66716 ],\n",
       "       [-458.89084 ,  145.70288 ],\n",
       "       [ 205.47345 , -340.26892 ],\n",
       "       [ 104.36076 , -258.4563  ],\n",
       "       [ -37.83705 , -230.32527 ],\n",
       "       [  72.78222 , -380.85794 ],\n",
       "       [ 242.95996 , -174.01326 ],\n",
       "       [  54.087368, -105.82611 ],\n",
       "       [ 207.35507 ,  174.1055  ],\n",
       "       [ 344.60013 ,  153.80902 ],\n",
       "       [ 108.33683 ,  250.74756 ],\n",
       "       [ -11.062773,  334.01358 ],\n",
       "       [ 228.3243  ,  302.08218 ],\n",
       "       [  38.228645,  120.15673 ]], dtype=float32)"
      ]
     },
     "execution_count": 41,
     "metadata": {},
     "output_type": "execute_result"
    }
   ],
   "source": [
    "tsne"
   ]
  }
 ],
 "metadata": {
  "kernelspec": {
   "display_name": "Python 3",
   "language": "python",
   "name": "python3"
  },
  "language_info": {
   "codemirror_mode": {
    "name": "ipython",
    "version": 3
   },
   "file_extension": ".py",
   "mimetype": "text/x-python",
   "name": "python",
   "nbconvert_exporter": "python",
   "pygments_lexer": "ipython3",
   "version": "3.8.6"
  },
  "toc": {
   "base_numbering": 1,
   "nav_menu": {},
   "number_sections": true,
   "sideBar": true,
   "skip_h1_title": false,
   "title_cell": "Table of Contents",
   "title_sidebar": "Contents",
   "toc_cell": false,
   "toc_position": {},
   "toc_section_display": true,
   "toc_window_display": true
  }
 },
 "nbformat": 4,
 "nbformat_minor": 4
}
